{
    "metadata": {
        "kernelspec": {
            "name": "SQL",
            "display_name": "SQL",
            "language": "sql"
        },
        "language_info": {
            "name": "sql",
            "version": ""
        }
    },
    "nbformat_minor": 2,
    "nbformat": 4,
    "cells": [
        {
            "cell_type": "markdown",
            "source": [
                "<H1><center>LABORATORIO N° 01: UTILIZANDO EXPRESIONES DE TABLA"
            ],
            "metadata": {
                "azdata_cell_guid": "7b3dee29-b50e-422e-b3fb-f48b2061c4c1"
            }
        },
        {
            "cell_type": "markdown",
            "source": [
                "<h2><b>Objetivo:</b></h2>\r\n",
                "* Aplicar los conocimientos asimilados sobre Expresiones de tabla regulares"
            ],
            "metadata": {
                "azdata_cell_guid": "29744702-cc82-486d-bdc2-bb7c7d93d005"
            }
        },
        {
            "cell_type": "markdown",
            "source": [
                "1. <b><u>Utilizando Vistas</u></b>"
            ],
            "metadata": {
                "azdata_cell_guid": "b980556b-ce64-48ca-bf90-ebea4e201733"
            }
        },
        {
            "cell_type": "markdown",
            "source": [
                "1.1. Accediendo a la base de datos TSQL"
            ],
            "metadata": {
                "azdata_cell_guid": "c23728e6-c690-40c0-b265-0d357bd908c6"
            }
        },
        {
            "cell_type": "code",
            "source": [
                "USE TSQL;\r\n",
                "GO"
            ],
            "metadata": {
                "azdata_cell_guid": "98dd6cf2-f089-45e0-8ba8-688e45df6cdb",
                "language": "sql"
            },
            "outputs": [
                {
                    "output_type": "display_data",
                    "data": {
                        "text/html": "Commands completed successfully."
                    },
                    "metadata": {}
                },
                {
                    "output_type": "display_data",
                    "data": {
                        "text/html": "Total execution time: 00:00:00"
                    },
                    "metadata": {}
                }
            ],
            "execution_count": 2
        },
        {
            "cell_type": "markdown",
            "source": [
                "1.2. Escribir una sentencia SELECT para devolver las columnas productid, productname, supplierid, unitprice y\r\n",
                "discontinued de la tabla Production.Products. Filtrar los resultados para incluir solo los productos que pertenezcana a la categoría Beverages (categoryid = 1)"
            ],
            "metadata": {
                "azdata_cell_guid": "057e0360-df5d-4e23-a3f2-f389f0a0fc58"
            }
        },
        {
            "cell_type": "code",
            "source": [
                "SELECT productid, productname, supplierid, unitprice, discontinued\r\n",
                "FROM Production.Products\r\n",
                "WHERE categoryid = 1;"
            ],
            "metadata": {
                "azdata_cell_guid": "1d603896-ad30-488c-b2dc-79d6c880b7bd",
                "tags": [],
                "language": "sql"
            },
            "outputs": [
                {
                    "output_type": "display_data",
                    "data": {
                        "text/html": "(12 rows affected)"
                    },
                    "metadata": {}
                },
                {
                    "output_type": "display_data",
                    "data": {
                        "text/html": "Total execution time: 00:00:00.008"
                    },
                    "metadata": {}
                },
                {
                    "output_type": "execute_result",
                    "metadata": {},
                    "execution_count": 3,
                    "data": {
                        "application/vnd.dataresource+json": {
                            "schema": {
                                "fields": [
                                    {
                                        "name": "productid"
                                    },
                                    {
                                        "name": "productname"
                                    },
                                    {
                                        "name": "supplierid"
                                    },
                                    {
                                        "name": "unitprice"
                                    },
                                    {
                                        "name": "discontinued"
                                    }
                                ]
                            },
                            "data": [
                                {
                                    "0": "1",
                                    "1": "Product HHYDP",
                                    "2": "1",
                                    "3": "18,00",
                                    "4": "0"
                                },
                                {
                                    "0": "2",
                                    "1": "Product RECZE",
                                    "2": "1",
                                    "3": "19,00",
                                    "4": "0"
                                },
                                {
                                    "0": "24",
                                    "1": "Product QOGNU",
                                    "2": "10",
                                    "3": "4,50",
                                    "4": "1"
                                },
                                {
                                    "0": "34",
                                    "1": "Product SWNJY",
                                    "2": "16",
                                    "3": "14,00",
                                    "4": "0"
                                },
                                {
                                    "0": "35",
                                    "1": "Product NEVTJ",
                                    "2": "16",
                                    "3": "18,00",
                                    "4": "0"
                                },
                                {
                                    "0": "38",
                                    "1": "Product QDOMO",
                                    "2": "18",
                                    "3": "263,50",
                                    "4": "0"
                                },
                                {
                                    "0": "39",
                                    "1": "Product LSOFL",
                                    "2": "18",
                                    "3": "18,00",
                                    "4": "0"
                                },
                                {
                                    "0": "43",
                                    "1": "Product ZZZHR",
                                    "2": "20",
                                    "3": "46,00",
                                    "4": "0"
                                },
                                {
                                    "0": "67",
                                    "1": "Product XLXQF",
                                    "2": "16",
                                    "3": "14,00",
                                    "4": "0"
                                },
                                {
                                    "0": "70",
                                    "1": "Product TOONT",
                                    "2": "7",
                                    "3": "15,00",
                                    "4": "0"
                                },
                                {
                                    "0": "75",
                                    "1": "Product BWRLG",
                                    "2": "12",
                                    "3": "7,75",
                                    "4": "0"
                                },
                                {
                                    "0": "76",
                                    "1": "Product JYGFE",
                                    "2": "23",
                                    "3": "18,00",
                                    "4": "0"
                                }
                            ]
                        },
                        "text/html": [
                            "<table>",
                            "<tr><th>productid</th><th>productname</th><th>supplierid</th><th>unitprice</th><th>discontinued</th></tr>",
                            "<tr><td>1</td><td>Product HHYDP</td><td>1</td><td>18,00</td><td>0</td></tr>",
                            "<tr><td>2</td><td>Product RECZE</td><td>1</td><td>19,00</td><td>0</td></tr>",
                            "<tr><td>24</td><td>Product QOGNU</td><td>10</td><td>4,50</td><td>1</td></tr>",
                            "<tr><td>34</td><td>Product SWNJY</td><td>16</td><td>14,00</td><td>0</td></tr>",
                            "<tr><td>35</td><td>Product NEVTJ</td><td>16</td><td>18,00</td><td>0</td></tr>",
                            "<tr><td>38</td><td>Product QDOMO</td><td>18</td><td>263,50</td><td>0</td></tr>",
                            "<tr><td>39</td><td>Product LSOFL</td><td>18</td><td>18,00</td><td>0</td></tr>",
                            "<tr><td>43</td><td>Product ZZZHR</td><td>20</td><td>46,00</td><td>0</td></tr>",
                            "<tr><td>67</td><td>Product XLXQF</td><td>16</td><td>14,00</td><td>0</td></tr>",
                            "<tr><td>70</td><td>Product TOONT</td><td>7</td><td>15,00</td><td>0</td></tr>",
                            "<tr><td>75</td><td>Product BWRLG</td><td>12</td><td>7,75</td><td>0</td></tr>",
                            "<tr><td>76</td><td>Product JYGFE</td><td>23</td><td>18,00</td><td>0</td></tr>",
                            "</table>"
                        ]
                    }
                }
            ],
            "execution_count": 3
        },
        {
            "cell_type": "markdown",
            "source": [
                "1.3. Modificar al sentencia T-SQL para incluir el siguiente código. Colocar esta sentencia antes de la clausula SELECT:"
            ],
            "metadata": {
                "azdata_cell_guid": "a7ace022-d398-43f5-adc4-347392bc039f"
            }
        },
        {
            "cell_type": "code",
            "source": [
                "CREATE VIEW Production.ProductsBeverages AS\r\n",
                "SELECT productid, productname, supplierid, unitprice, discontinued\r\n",
                "FROM Production.Products\r\n",
                "WHERE categoryid = 1;"
            ],
            "metadata": {
                "azdata_cell_guid": "86e964f9-4ddf-4697-95cd-2a960eea0189",
                "language": "sql"
            },
            "outputs": [
                {
                    "output_type": "display_data",
                    "data": {
                        "text/html": "Commands completed successfully."
                    },
                    "metadata": {}
                },
                {
                    "output_type": "display_data",
                    "data": {
                        "text/html": "Total execution time: 00:00:00.002"
                    },
                    "metadata": {}
                }
            ],
            "execution_count": 26
        },
        {
            "cell_type": "markdown",
            "source": [
                "1.4. Escribir una sentencia SELECT para devolver las columnas productid y productname de la vista Production.ProductsBeverages. Filtrar los resultados para incluir solo productos donde supplierid = 1"
            ],
            "metadata": {
                "azdata_cell_guid": "bed83f21-1431-4777-bfef-45f0af970628"
            }
        },
        {
            "cell_type": "code",
            "source": [
                "SELECT productid, productname\r\n",
                "FROM Production.ProductsBeverages\r\n",
                "WHERE supplierid = 1;"
            ],
            "metadata": {
                "azdata_cell_guid": "8919d918-fc92-4cb4-b27d-39c09a688c4d",
                "language": "sql"
            },
            "outputs": [
                {
                    "output_type": "display_data",
                    "data": {
                        "text/html": "(2 rows affected)"
                    },
                    "metadata": {}
                },
                {
                    "output_type": "display_data",
                    "data": {
                        "text/html": "Total execution time: 00:00:00.007"
                    },
                    "metadata": {}
                },
                {
                    "output_type": "execute_result",
                    "metadata": {},
                    "execution_count": 27,
                    "data": {
                        "application/vnd.dataresource+json": {
                            "schema": {
                                "fields": [
                                    {
                                        "name": "productid"
                                    },
                                    {
                                        "name": "productname"
                                    }
                                ]
                            },
                            "data": [
                                {
                                    "0": "1",
                                    "1": "Product HHYDP"
                                },
                                {
                                    "0": "2",
                                    "1": "Product RECZE"
                                }
                            ]
                        },
                        "text/html": [
                            "<table>",
                            "<tr><th>productid</th><th>productname</th></tr>",
                            "<tr><td>1</td><td>Product HHYDP</td></tr>",
                            "<tr><td>2</td><td>Product RECZE</td></tr>",
                            "</table>"
                        ]
                    }
                }
            ],
            "execution_count": 27
        },
        {
            "cell_type": "markdown",
            "source": [
                "1.5. El departamento de TI ha escrito una sentencia T-SQL que añade una columna calculada a la vista."
            ],
            "metadata": {
                "azdata_cell_guid": "042177d8-531f-4bfa-b659-3de65fb43b10"
            }
        },
        {
            "cell_type": "code",
            "source": [
                "ALTER VIEW Production.ProductsBeverages AS\r\n",
                "SELECT\r\n",
                "    productid, \r\n",
                "    productname, \r\n",
                "    supplierid, \r\n",
                "    unitprice, \r\n",
                "    discontinued,\r\n",
                "    CASE \r\n",
                "        WHEN unitprice > 100 THEN N'high' \r\n",
                "        ELSE N'normal' \r\n",
                "    END AS pricetype\r\n",
                "FROM Production.Products\r\n",
                "WHERE categoryid = 1;"
            ],
            "metadata": {
                "azdata_cell_guid": "c8b6781b-e5be-452d-80d3-5a6d22c58bd1",
                "language": "sql"
            },
            "outputs": [
                {
                    "output_type": "display_data",
                    "data": {
                        "text/html": "Commands completed successfully."
                    },
                    "metadata": {}
                },
                {
                    "output_type": "display_data",
                    "data": {
                        "text/html": "Total execution time: 00:00:00.004"
                    },
                    "metadata": {}
                }
            ],
            "execution_count": 30
        },
        {
            "cell_type": "markdown",
            "source": [
                "1.6. Aplicar los cambios necesario para que la sentencia T-SQL statement se ejecute correctamente."
            ],
            "metadata": {
                "azdata_cell_guid": "0b3ae01e-56fc-4dcc-be22-1c91adacb12d"
            }
        },
        {
            "cell_type": "code",
            "source": [
                "ALTER VIEW Production.ProductsBeverages AS\r\n",
                "SELECT\r\n",
                "    productid, \r\n",
                "    productname, \r\n",
                "    supplierid, \r\n",
                "    unitprice, \r\n",
                "    discontinued,\r\n",
                "    CASE \r\n",
                "        WHEN unitprice > 100 THEN N'high' \r\n",
                "        ELSE N'normal' \r\n",
                "    END AS pricetype\r\n",
                "FROM Production.Products\r\n",
                "WHERE categoryid = 1;"
            ],
            "metadata": {
                "azdata_cell_guid": "955673f2-25e0-4e96-920e-832886343097",
                "language": "sql"
            },
            "outputs": [
                {
                    "output_type": "display_data",
                    "data": {
                        "text/html": "Commands completed successfully."
                    },
                    "metadata": {}
                },
                {
                    "output_type": "display_data",
                    "data": {
                        "text/html": "Total execution time: 00:00:00.002"
                    },
                    "metadata": {}
                }
            ],
            "execution_count": 31
        },
        {
            "cell_type": "markdown",
            "source": [
                "2. <b><u>Utilizando utilizando Tablas Derivadas</u></b>"
            ],
            "metadata": {
                "azdata_cell_guid": "9fcdfc78-c5a3-4d76-9e5a-69e415002db5"
            }
        },
        {
            "cell_type": "markdown",
            "source": [
                "2.1. Escribir una sentencia SELECT contra una tabla derivada y retornar las columnas productid y productname. Filtrar los resultados para incluir solo las filas en las cuales el valor de la columna pricetype es igual a high. Usar la sentencia SELECT del ejericio 1, paso 4, como la la consulta inner que define la tabla derivada. No olvidar usar el alias para la tabla derivada. (Ypuede usar el alias “p”.)"
            ],
            "metadata": {
                "azdata_cell_guid": "511f8eba-1091-4d5c-b4da-6eb3946a7bbd"
            }
        },
        {
            "cell_type": "code",
            "source": [
                "SELECT p.productid, p.productname\r\n",
                "FROM (\r\n",
                "    SELECT productid, productname, supplierid, unitprice, discontinued,\r\n",
                "           CASE WHEN unitprice > 100 THEN N'high' ELSE N'normal' END AS pricetype\r\n",
                "    FROM Production.Products\r\n",
                "    WHERE categoryid = 1\r\n",
                ") AS p\r\n",
                "WHERE p.pricetype = 'high';"
            ],
            "metadata": {
                "azdata_cell_guid": "f9a1bb71-fb95-4caf-a51a-c2074a46ff56",
                "language": "sql"
            },
            "outputs": [
                {
                    "output_type": "error",
                    "evalue": "Msg 208, Level 16, State 1, Line 1\r\nEl nombre de objeto 'Production.Products' no es válido.",
                    "ename": "",
                    "traceback": []
                },
                {
                    "output_type": "display_data",
                    "data": {
                        "text/html": "Total execution time: 00:00:00"
                    },
                    "metadata": {}
                }
            ],
            "execution_count": 1
        },
        {
            "cell_type": "markdown",
            "source": [
                "2.2. Escribir una sentencia SELECT para devolver la columna custid y dos columnas calculadas:\r\n",
                "totalsalesamount, la cual retornará el total de ventas por cliente y avgsalesamount, la cual devolvera el monto promedio de ventas de las ordenes por cliente. Para calcular correctamente el monto promedio de ventas de las ordenes por cliente, primero debera calcular el monto total de ventas por orden. Se puede definir una tabla derivada basado en una consulta que enlace las tablas Sales.Orders y Sales.OrderDetails. Usar las columnas custid y orderid de la tabla Sales.Orders y las columnas qty y unitprice de la tabla  Sales.OrderDetails."
            ],
            "metadata": {
                "azdata_cell_guid": "f5681774-ff98-4b62-9315-e46dd92dccb1"
            }
        },
        {
            "cell_type": "code",
            "source": [
                "SELECT custid, SUM(salesamount) AS totalsalesamount, AVG(salesamount) AS avgsalesamount\r\n",
                "FROM (\r\n",
                "    SELECT o.custid, o.orderid, od.qty * od.unitprice AS salesamount\r\n",
                "    FROM Sales.Orders o\r\n",
                "    JOIN Sales.OrderDetails od ON o.orderid = od.orderid\r\n",
                ") AS sales\r\n",
                "GROUP BY custid;"
            ],
            "metadata": {
                "azdata_cell_guid": "49b7a77b-a8c9-4275-9a40-8ca1d5e0ec1a",
                "language": "sql"
            },
            "outputs": [
                {
                    "output_type": "display_data",
                    "data": {
                        "text/html": "(89 rows affected)"
                    },
                    "metadata": {}
                },
                {
                    "output_type": "display_data",
                    "data": {
                        "text/html": "Total execution time: 00:00:00.024"
                    },
                    "metadata": {}
                },
                {
                    "output_type": "execute_result",
                    "metadata": {},
                    "execution_count": 8,
                    "data": {
                        "application/vnd.dataresource+json": {
                            "schema": {
                                "fields": [
                                    {
                                        "name": "custid"
                                    },
                                    {
                                        "name": "totalsalesamount"
                                    },
                                    {
                                        "name": "avgsalesamount"
                                    }
                                ]
                            },
                            "data": [
                                {
                                    "0": "23",
                                    "1": "11666,90",
                                    "2": "729,1812"
                                },
                                {
                                    "0": "46",
                                    "1": "17825,06",
                                    "2": "524,2664"
                                },
                                {
                                    "0": "69",
                                    "1": "1467,29",
                                    "2": "104,8064"
                                },
                                {
                                    "0": "29",
                                    "1": "836,70",
                                    "2": "104,5875"
                                },
                                {
                                    "0": "75",
                                    "1": "12489,70",
                                    "2": "624,485"
                                },
                                {
                                    "0": "15",
                                    "1": "3810,75",
                                    "2": "381,075"
                                },
                                {
                                    "0": "9",
                                    "1": "23850,95",
                                    "2": "542,067"
                                },
                                {
                                    "0": "89",
                                    "1": "29073,45",
                                    "2": "726,8362"
                                },
                                {
                                    "0": "3",
                                    "1": "7515,35",
                                    "2": "442,0794"
                                },
                                {
                                    "0": "52",
                                    "1": "5042,20",
                                    "2": "458,3818"
                                },
                                {
                                    "0": "72",
                                    "1": "17172,05",
                                    "2": "660,4634"
                                },
                                {
                                    "0": "66",
                                    "1": "7555,60",
                                    "2": "343,4363"
                                },
                                {
                                    "0": "78",
                                    "1": "1947,24",
                                    "2": "243,405"
                                },
                                {
                                    "0": "32",
                                    "1": "19711,13",
                                    "2": "895,9604"
                                },
                                {
                                    "0": "26",
                                    "1": "3172,16",
                                    "2": "528,6933"
                                },
                                {
                                    "0": "12",
                                    "1": "1814,80",
                                    "2": "164,9818"
                                },
                                {
                                    "0": "35",
                                    "1": "23611,58",
                                    "2": "524,7017"
                                },
                                {
                                    "0": "86",
                                    "1": "10653,85",
                                    "2": "409,7634"
                                },
                                {
                                    "0": "63",
                                    "1": "117483,39",
                                    "2": "1366,0859"
                                },
                                {
                                    "0": "6",
                                    "1": "3239,80",
                                    "2": "231,4142"
                                },
                                {
                                    "0": "55",
                                    "1": "16325,15",
                                    "2": "680,2145"
                                },
                                {
                                    "0": "43",
                                    "1": "357,00",
                                    "2": "178,50"
                                },
                                {
                                    "0": "49",
                                    "1": "7603,85",
                                    "2": "362,088"
                                },
                                {
                                    "0": "67",
                                    "1": "12924,40",
                                    "2": "478,6814"
                                },
                                {
                                    "0": "21",
                                    "1": "4438,90",
                                    "2": "233,6263"
                                },
                                {
                                    "0": "27",
                                    "1": "1545,70",
                                    "2": "154,57"
                                },
                                {
                                    "0": "58",
                                    "1": "4242,20",
                                    "2": "303,0142"
                                },
                                {
                                    "0": "81",
                                    "1": "7310,62",
                                    "2": "562,3553"
                                },
                                {
                                    "0": "64",
                                    "1": "2844,10",
                                    "2": "237,0083"
                                },
                                {
                                    "0": "87",
                                    "1": "16617,10",
                                    "2": "449,1108"
                                },
                                {
                                    "0": "38",
                                    "1": "6146,30",
                                    "2": "267,2304"
                                },
                                {
                                    "0": "7",
                                    "1": "19088,00",
                                    "2": "734,1538"
                                },
                                {
                                    "0": "44",
                                    "1": "21282,02",
                                    "2": "545,6928"
                                },
                                {
                                    "0": "50",
                                    "1": "10430,58",
                                    "2": "613,5635"
                                },
                                {
                                    "0": "1",
                                    "1": "4596,20",
                                    "2": "383,0166"
                                },
                                {
                                    "0": "24",
                                    "1": "32555,55",
                                    "2": "723,4566"
                                },
                                {
                                    "0": "47",
                                    "1": "17889,55",
                                    "2": "511,13"
                                },
                                {
                                    "0": "70",
                                    "1": "5735,15",
                                    "2": "358,4468"
                                },
                                {
                                    "0": "30",
                                    "1": "11830,10",
                                    "2": "455,0038"
                                },
                                {
                                    "0": "18",
                                    "1": "1615,90",
                                    "2": "179,5444"
                                },
                                {
                                    "0": "84",
                                    "1": "9937,10",
                                    "2": "397,484"
                                },
                                {
                                    "0": "10",
                                    "1": "22607,70",
                                    "2": "645,9342"
                                },
                                {
                                    "0": "61",
                                    "1": "6973,63",
                                    "2": "290,5679"
                                },
                                {
                                    "0": "41",
                                    "1": "10272,35",
                                    "2": "331,3661"
                                },
                                {
                                    "0": "90",
                                    "1": "3161,35",
                                    "2": "185,9617"
                                },
                                {
                                    "0": "4",
                                    "1": "13806,50",
                                    "2": "460,2166"
                                },
                                {
                                    "0": "65",
                                    "1": "52245,90",
                                    "2": "735,8577"
                                },
                                {
                                    "0": "79",
                                    "1": "4954,00",
                                    "2": "353,8571"
                                },
                                {
                                    "0": "19",
                                    "1": "15033,66",
                                    "2": "715,8885"
                                },
                                {
                                    "0": "73",
                                    "1": "18138,45",
                                    "2": "1209,23"
                                },
                                {
                                    "0": "25",
                                    "1": "28722,71",
                                    "2": "598,3897"
                                },
                                {
                                    "0": "36",
                                    "1": "3063,20",
                                    "2": "340,3555"
                                },
                                {
                                    "0": "85",
                                    "1": "1480,00",
                                    "2": "148,00"
                                },
                                {
                                    "0": "13",
                                    "1": "100,80",
                                    "2": "50,40"
                                },
                                {
                                    "0": "62",
                                    "1": "30226,10",
                                    "2": "755,6525"
                                },
                                {
                                    "0": "42",
                                    "1": "522,50",
                                    "2": "65,3125"
                                },
                                {
                                    "0": "5",
                                    "1": "26968,15",
                                    "2": "518,6182"
                                },
                                {
                                    "0": "56",
                                    "1": "13157,50",
                                    "2": "453,7068"
                                },
                                {
                                    "0": "76",
                                    "1": "24704,40",
                                    "2": "633,4461"
                                },
                                {
                                    "0": "59",
                                    "1": "26259,95",
                                    "2": "1141,7369"
                                },
                                {
                                    "0": "82",
                                    "1": "1571,20",
                                    "2": "174,5777"
                                },
                                {
                                    "0": "33",
                                    "1": "1488,70",
                                    "2": "372,175"
                                },
                                {
                                    "0": "39",
                                    "1": "31745,75",
                                    "2": "813,9935"
                                },
                                {
                                    "0": "16",
                                    "1": "1719,10",
                                    "2": "245,5857"
                                },
                                {
                                    "0": "88",
                                    "1": "6480,70",
                                    "2": "341,0894"
                                },
                                {
                                    "0": "53",
                                    "1": "649,00",
                                    "2": "108,1666"
                                },
                                {
                                    "0": "45",
                                    "1": "3490,02",
                                    "2": "349,002"
                                },
                                {
                                    "0": "2",
                                    "1": "1402,95",
                                    "2": "140,295"
                                },
                                {
                                    "0": "48",
                                    "1": "4258,60",
                                    "2": "304,1857"
                                },
                                {
                                    "0": "71",
                                    "1": "115673,39",
                                    "2": "997,1843"
                                },
                                {
                                    "0": "77",
                                    "1": "3361,00",
                                    "2": "480,1428"
                                },
                                {
                                    "0": "17",
                                    "1": "3763,21",
                                    "2": "376,321"
                                },
                                {
                                    "0": "31",
                                    "1": "8702,23",
                                    "2": "458,0121"
                                },
                                {
                                    "0": "60",
                                    "1": "5317,10",
                                    "2": "531,71"
                                },
                                {
                                    "0": "83",
                                    "1": "16643,80",
                                    "2": "536,8967"
                                },
                                {
                                    "0": "34",
                                    "1": "34101,15",
                                    "2": "1065,6609"
                                },
                                {
                                    "0": "40",
                                    "1": "1992,05",
                                    "2": "181,0954"
                                },
                                {
                                    "0": "11",
                                    "1": "6089,90",
                                    "2": "276,8136"
                                },
                                {
                                    "0": "54",
                                    "1": "3460,20",
                                    "2": "314,5636"
                                },
                                {
                                    "0": "91",
                                    "1": "3531,95",
                                    "2": "220,7468"
                                },
                                {
                                    "0": "20",
                                    "1": "113236,68",
                                    "2": "1110,1635"
                                },
                                {
                                    "0": "68",
                                    "1": "20033,20",
                                    "2": "667,7733"
                                },
                                {
                                    "0": "80",
                                    "1": "10812,15",
                                    "2": "372,8327"
                                },
                                {
                                    "0": "28",
                                    "1": "7151,55",
                                    "2": "357,5775"
                                },
                                {
                                    "0": "74",
                                    "1": "2423,35",
                                    "2": "403,8916"
                                },
                                {
                                    "0": "14",
                                    "1": "12886,30",
                                    "2": "585,7409"
                                },
                                {
                                    "0": "37",
                                    "1": "57317,39",
                                    "2": "1042,1343"
                                },
                                {
                                    "0": "8",
                                    "1": "5297,80",
                                    "2": "882,9666"
                                },
                                {
                                    "0": "51",
                                    "1": "32203,90",
                                    "2": "1006,3718"
                                }
                            ]
                        },
                        "text/html": [
                            "<table>",
                            "<tr><th>custid</th><th>totalsalesamount</th><th>avgsalesamount</th></tr>",
                            "<tr><td>23</td><td>11666,90</td><td>729,1812</td></tr>",
                            "<tr><td>46</td><td>17825,06</td><td>524,2664</td></tr>",
                            "<tr><td>69</td><td>1467,29</td><td>104,8064</td></tr>",
                            "<tr><td>29</td><td>836,70</td><td>104,5875</td></tr>",
                            "<tr><td>75</td><td>12489,70</td><td>624,485</td></tr>",
                            "<tr><td>15</td><td>3810,75</td><td>381,075</td></tr>",
                            "<tr><td>9</td><td>23850,95</td><td>542,067</td></tr>",
                            "<tr><td>89</td><td>29073,45</td><td>726,8362</td></tr>",
                            "<tr><td>3</td><td>7515,35</td><td>442,0794</td></tr>",
                            "<tr><td>52</td><td>5042,20</td><td>458,3818</td></tr>",
                            "<tr><td>72</td><td>17172,05</td><td>660,4634</td></tr>",
                            "<tr><td>66</td><td>7555,60</td><td>343,4363</td></tr>",
                            "<tr><td>78</td><td>1947,24</td><td>243,405</td></tr>",
                            "<tr><td>32</td><td>19711,13</td><td>895,9604</td></tr>",
                            "<tr><td>26</td><td>3172,16</td><td>528,6933</td></tr>",
                            "<tr><td>12</td><td>1814,80</td><td>164,9818</td></tr>",
                            "<tr><td>35</td><td>23611,58</td><td>524,7017</td></tr>",
                            "<tr><td>86</td><td>10653,85</td><td>409,7634</td></tr>",
                            "<tr><td>63</td><td>117483,39</td><td>1366,0859</td></tr>",
                            "<tr><td>6</td><td>3239,80</td><td>231,4142</td></tr>",
                            "<tr><td>55</td><td>16325,15</td><td>680,2145</td></tr>",
                            "<tr><td>43</td><td>357,00</td><td>178,50</td></tr>",
                            "<tr><td>49</td><td>7603,85</td><td>362,088</td></tr>",
                            "<tr><td>67</td><td>12924,40</td><td>478,6814</td></tr>",
                            "<tr><td>21</td><td>4438,90</td><td>233,6263</td></tr>",
                            "<tr><td>27</td><td>1545,70</td><td>154,57</td></tr>",
                            "<tr><td>58</td><td>4242,20</td><td>303,0142</td></tr>",
                            "<tr><td>81</td><td>7310,62</td><td>562,3553</td></tr>",
                            "<tr><td>64</td><td>2844,10</td><td>237,0083</td></tr>",
                            "<tr><td>87</td><td>16617,10</td><td>449,1108</td></tr>",
                            "<tr><td>38</td><td>6146,30</td><td>267,2304</td></tr>",
                            "<tr><td>7</td><td>19088,00</td><td>734,1538</td></tr>",
                            "<tr><td>44</td><td>21282,02</td><td>545,6928</td></tr>",
                            "<tr><td>50</td><td>10430,58</td><td>613,5635</td></tr>",
                            "<tr><td>1</td><td>4596,20</td><td>383,0166</td></tr>",
                            "<tr><td>24</td><td>32555,55</td><td>723,4566</td></tr>",
                            "<tr><td>47</td><td>17889,55</td><td>511,13</td></tr>",
                            "<tr><td>70</td><td>5735,15</td><td>358,4468</td></tr>",
                            "<tr><td>30</td><td>11830,10</td><td>455,0038</td></tr>",
                            "<tr><td>18</td><td>1615,90</td><td>179,5444</td></tr>",
                            "<tr><td>84</td><td>9937,10</td><td>397,484</td></tr>",
                            "<tr><td>10</td><td>22607,70</td><td>645,9342</td></tr>",
                            "<tr><td>61</td><td>6973,63</td><td>290,5679</td></tr>",
                            "<tr><td>41</td><td>10272,35</td><td>331,3661</td></tr>",
                            "<tr><td>90</td><td>3161,35</td><td>185,9617</td></tr>",
                            "<tr><td>4</td><td>13806,50</td><td>460,2166</td></tr>",
                            "<tr><td>65</td><td>52245,90</td><td>735,8577</td></tr>",
                            "<tr><td>79</td><td>4954,00</td><td>353,8571</td></tr>",
                            "<tr><td>19</td><td>15033,66</td><td>715,8885</td></tr>",
                            "<tr><td>73</td><td>18138,45</td><td>1209,23</td></tr>",
                            "<tr><td>25</td><td>28722,71</td><td>598,3897</td></tr>",
                            "<tr><td>36</td><td>3063,20</td><td>340,3555</td></tr>",
                            "<tr><td>85</td><td>1480,00</td><td>148,00</td></tr>",
                            "<tr><td>13</td><td>100,80</td><td>50,40</td></tr>",
                            "<tr><td>62</td><td>30226,10</td><td>755,6525</td></tr>",
                            "<tr><td>42</td><td>522,50</td><td>65,3125</td></tr>",
                            "<tr><td>5</td><td>26968,15</td><td>518,6182</td></tr>",
                            "<tr><td>56</td><td>13157,50</td><td>453,7068</td></tr>",
                            "<tr><td>76</td><td>24704,40</td><td>633,4461</td></tr>",
                            "<tr><td>59</td><td>26259,95</td><td>1141,7369</td></tr>",
                            "<tr><td>82</td><td>1571,20</td><td>174,5777</td></tr>",
                            "<tr><td>33</td><td>1488,70</td><td>372,175</td></tr>",
                            "<tr><td>39</td><td>31745,75</td><td>813,9935</td></tr>",
                            "<tr><td>16</td><td>1719,10</td><td>245,5857</td></tr>",
                            "<tr><td>88</td><td>6480,70</td><td>341,0894</td></tr>",
                            "<tr><td>53</td><td>649,00</td><td>108,1666</td></tr>",
                            "<tr><td>45</td><td>3490,02</td><td>349,002</td></tr>",
                            "<tr><td>2</td><td>1402,95</td><td>140,295</td></tr>",
                            "<tr><td>48</td><td>4258,60</td><td>304,1857</td></tr>",
                            "<tr><td>71</td><td>115673,39</td><td>997,1843</td></tr>",
                            "<tr><td>77</td><td>3361,00</td><td>480,1428</td></tr>",
                            "<tr><td>17</td><td>3763,21</td><td>376,321</td></tr>",
                            "<tr><td>31</td><td>8702,23</td><td>458,0121</td></tr>",
                            "<tr><td>60</td><td>5317,10</td><td>531,71</td></tr>",
                            "<tr><td>83</td><td>16643,80</td><td>536,8967</td></tr>",
                            "<tr><td>34</td><td>34101,15</td><td>1065,6609</td></tr>",
                            "<tr><td>40</td><td>1992,05</td><td>181,0954</td></tr>",
                            "<tr><td>11</td><td>6089,90</td><td>276,8136</td></tr>",
                            "<tr><td>54</td><td>3460,20</td><td>314,5636</td></tr>",
                            "<tr><td>91</td><td>3531,95</td><td>220,7468</td></tr>",
                            "<tr><td>20</td><td>113236,68</td><td>1110,1635</td></tr>",
                            "<tr><td>68</td><td>20033,20</td><td>667,7733</td></tr>",
                            "<tr><td>80</td><td>10812,15</td><td>372,8327</td></tr>",
                            "<tr><td>28</td><td>7151,55</td><td>357,5775</td></tr>",
                            "<tr><td>74</td><td>2423,35</td><td>403,8916</td></tr>",
                            "<tr><td>14</td><td>12886,30</td><td>585,7409</td></tr>",
                            "<tr><td>37</td><td>57317,39</td><td>1042,1343</td></tr>",
                            "<tr><td>8</td><td>5297,80</td><td>882,9666</td></tr>",
                            "<tr><td>51</td><td>32203,90</td><td>1006,3718</td></tr>",
                            "</table>"
                        ]
                    }
                }
            ],
            "execution_count": 8
        },
        {
            "cell_type": "markdown",
            "source": [
                "3. <b><u>Utilizando Expresions Comunes de Tabla</u></b>"
            ],
            "metadata": {
                "azdata_cell_guid": "299ae039-7d57-4f9e-8704-b7d521cba7d4"
            }
        },
        {
            "cell_type": "markdown",
            "source": [
                "3.1. Escribir una sentencia SELECT como la del ejercicio 2.1, pero utilizar un CTE en vez de una tabla derivada.\r\n",
                "Utilizar un alias de columna en linea en la consulta CTE y nombrar al CTE como ProductBeverages."
            ],
            "metadata": {
                "azdata_cell_guid": "7cadfd5d-e300-4fcd-a5b8-0b2e1e8b4a9f"
            }
        },
        {
            "cell_type": "code",
            "source": [
                "WITH ProductBeverages(productid, productname, supplierid, unitprice, discontinued, pricetype) AS (\r\n",
                "    SELECT productid, productname, supplierid, unitprice, discontinued,\r\n",
                "           CASE WHEN unitprice > 100 THEN N'high' ELSE N'normal' END\r\n",
                "    FROM Production.Products\r\n",
                "    WHERE categoryid = 1\r\n",
                ")\r\n",
                "SELECT productid, productname\r\n",
                "FROM ProductBeverages\r\n",
                "WHERE pricetype = 'high';"
            ],
            "metadata": {
                "azdata_cell_guid": "dfb6cf61-037b-4fee-b6da-4d89cf4cb3dd",
                "language": "sql"
            },
            "outputs": [
                {
                    "output_type": "display_data",
                    "data": {
                        "text/html": "(1 row affected)"
                    },
                    "metadata": {}
                },
                {
                    "output_type": "display_data",
                    "data": {
                        "text/html": "Total execution time: 00:00:00.014"
                    },
                    "metadata": {}
                },
                {
                    "output_type": "execute_result",
                    "metadata": {},
                    "execution_count": 9,
                    "data": {
                        "application/vnd.dataresource+json": {
                            "schema": {
                                "fields": [
                                    {
                                        "name": "productid"
                                    },
                                    {
                                        "name": "productname"
                                    }
                                ]
                            },
                            "data": [
                                {
                                    "0": "38",
                                    "1": "Product QDOMO"
                                }
                            ]
                        },
                        "text/html": [
                            "<table>",
                            "<tr><th>productid</th><th>productname</th></tr>",
                            "<tr><td>38</td><td>Product QDOMO</td></tr>",
                            "</table>"
                        ]
                    }
                }
            ],
            "execution_count": 9
        },
        {
            "cell_type": "markdown",
            "source": [
                "3.2. Escribir una consulta SELECT contra la tabla Sales.OrderValues para traer cada customer’s ID y el monto total de ventaspara el año 2008. Definir un CTE llamado c2008 basado en esta consulta, utilizando la forma de alias externapara nombrar las columnas del CTE como custid y salesamt2008. Enlazar la tabla Sales.Customers y el CTE c2008, devolviendo las columnas custid y contactname de la tabla Sales.Customers y la columna \r\n",
                "salesamt2008 desde el CTE c2008."
            ],
            "metadata": {
                "azdata_cell_guid": "da5e6de7-ca23-4217-8a7b-315014dd7668"
            }
        },
        {
            "cell_type": "code",
            "source": [
                "WITH c2008 (custid, salesamt2008) AS (\r\n",
                "    SELECT custid, SUM(val)\r\n",
                "    FROM Sales.OrderValues\r\n",
                "    WHERE YEAR(orderdate) = 2008\r\n",
                "    GROUP BY custid\r\n",
                ")\r\n",
                "SELECT c.custid, c.contactname, cv.salesamt2008\r\n",
                "FROM Sales.Customers c\r\n",
                "JOIN c2008 cv ON c.custid = cv.custid;"
            ],
            "metadata": {
                "azdata_cell_guid": "151cd974-bd95-46c9-af47-cfe0925d01a8",
                "language": "sql"
            },
            "outputs": [
                {
                    "output_type": "display_data",
                    "data": {
                        "text/html": "(81 rows affected)"
                    },
                    "metadata": {}
                },
                {
                    "output_type": "display_data",
                    "data": {
                        "text/html": "Total execution time: 00:00:00.020"
                    },
                    "metadata": {}
                },
                {
                    "output_type": "execute_result",
                    "metadata": {},
                    "execution_count": 10,
                    "data": {
                        "application/vnd.dataresource+json": {
                            "schema": {
                                "fields": [
                                    {
                                        "name": "custid"
                                    },
                                    {
                                        "name": "contactname"
                                    },
                                    {
                                        "name": "salesamt2008"
                                    }
                                ]
                            },
                            "data": [
                                {
                                    "0": "1",
                                    "1": "Allen, Michael",
                                    "2": "2250.50"
                                },
                                {
                                    "0": "2",
                                    "1": "Hassall, Mark",
                                    "2": "514.40"
                                },
                                {
                                    "0": "3",
                                    "1": "Peoples, John",
                                    "2": "660.00"
                                },
                                {
                                    "0": "4",
                                    "1": "Arndt, Torsten",
                                    "2": "5604.75"
                                },
                                {
                                    "0": "5",
                                    "1": "Higginbotham, Tom",
                                    "2": "6754.16"
                                },
                                {
                                    "0": "6",
                                    "1": "Poland, Carole",
                                    "2": "2160.00"
                                },
                                {
                                    "0": "7",
                                    "1": "Bansal, Dushyant",
                                    "2": "730.00"
                                },
                                {
                                    "0": "8",
                                    "1": "Ilyina, Julia",
                                    "2": "224.00"
                                },
                                {
                                    "0": "9",
                                    "1": "Raghav, Amritansh",
                                    "2": "6680.61"
                                },
                                {
                                    "0": "10",
                                    "1": "Bassols, Pilar Colome",
                                    "2": "11338.56"
                                },
                                {
                                    "0": "11",
                                    "1": "Jaffe, David",
                                    "2": "2431.00"
                                },
                                {
                                    "0": "12",
                                    "1": "Ray, Mike",
                                    "2": "1576.80"
                                },
                                {
                                    "0": "14",
                                    "1": "Jelitto, Jacek",
                                    "2": "4158.26"
                                },
                                {
                                    "0": "15",
                                    "1": "Richardson, Shawn",
                                    "2": "513.75"
                                },
                                {
                                    "0": "16",
                                    "1": "Birkby, Dana",
                                    "2": "931.50"
                                },
                                {
                                    "0": "17",
                                    "1": "Jones, TiAnna",
                                    "2": "2809.61"
                                },
                                {
                                    "0": "18",
                                    "1": "Rizaldy, Arif",
                                    "2": "860.10"
                                },
                                {
                                    "0": "19",
                                    "1": "Boseman, Randall",
                                    "2": "9296.69"
                                },
                                {
                                    "0": "20",
                                    "1": "Kane, John",
                                    "2": "41210.65"
                                },
                                {
                                    "0": "24",
                                    "1": "San Juan, Patricia",
                                    "2": "13644.07"
                                },
                                {
                                    "0": "25",
                                    "1": "Carlson, Jason",
                                    "2": "5078.74"
                                },
                                {
                                    "0": "26",
                                    "1": "Koch, Paul",
                                    "2": "2252.06"
                                },
                                {
                                    "0": "27",
                                    "1": "Schmöllerl, Martin",
                                    "2": "1296.00"
                                },
                                {
                                    "0": "28",
                                    "1": "Cavaglieri, Giorgio",
                                    "2": "57.80"
                                },
                                {
                                    "0": "29",
                                    "1": "Kolesnikova, Katerina",
                                    "2": "207.50"
                                },
                                {
                                    "0": "30",
                                    "1": "Shabalin, Rostislav",
                                    "2": "6870.21"
                                },
                                {
                                    "0": "31",
                                    "1": "Cheng, Yao-Qiang",
                                    "2": "405.35"
                                },
                                {
                                    "0": "32",
                                    "1": "Krishnan, Venky",
                                    "2": "9942.14"
                                },
                                {
                                    "0": "34",
                                    "1": "Cohen, Shy",
                                    "2": "23821.20"
                                },
                                {
                                    "0": "35",
                                    "1": "Langohr, Kris",
                                    "2": "6043.20"
                                },
                                {
                                    "0": "37",
                                    "1": "Crăciun, Ovidiu V.",
                                    "2": "20402.12"
                                },
                                {
                                    "0": "38",
                                    "1": "Lee, Frank",
                                    "2": "2684.60"
                                },
                                {
                                    "0": "39",
                                    "1": "Song, Lolan",
                                    "2": "19582.78"
                                },
                                {
                                    "0": "40",
                                    "1": "De Oliveira, Jose",
                                    "2": "1992.05"
                                },
                                {
                                    "0": "41",
                                    "1": "Litton, Tim",
                                    "2": "1259.91"
                                },
                                {
                                    "0": "42",
                                    "1": "Steiner, Dominik",
                                    "2": "187.00"
                                },
                                {
                                    "0": "44",
                                    "1": "Louverdis, George",
                                    "2": "3079.91"
                                },
                                {
                                    "0": "45",
                                    "1": "Sunkammurali,  Krishna",
                                    "2": "1378.07"
                                },
                                {
                                    "0": "46",
                                    "1": "Dressler, Marlies",
                                    "2": "5507.32"
                                },
                                {
                                    "0": "47",
                                    "1": "Lupu, Cornel",
                                    "2": "9117.10"
                                },
                                {
                                    "0": "48",
                                    "1": "Szymczak, Radosław",
                                    "2": "1709.40"
                                },
                                {
                                    "0": "49",
                                    "1": "Duerr, Bernard",
                                    "2": "1580.50"
                                },
                                {
                                    "0": "50",
                                    "1": "Mace, Donald",
                                    "2": "4439.08"
                                },
                                {
                                    "0": "52",
                                    "1": "Dupont-Roc, Patrice",
                                    "2": "245.00"
                                },
                                {
                                    "0": "53",
                                    "1": "Mallit, Ken",
                                    "2": "45.00"
                                },
                                {
                                    "0": "54",
                                    "1": "Tiano, Mike",
                                    "2": "3031.00"
                                },
                                {
                                    "0": "55",
                                    "1": "Egelund-Muller, Anja",
                                    "2": "5026.29"
                                },
                                {
                                    "0": "56",
                                    "1": "Marinova, Nadejda",
                                    "2": "2737.28"
                                },
                                {
                                    "0": "58",
                                    "1": "Fakhouri, Fadi",
                                    "2": "1496.00"
                                },
                                {
                                    "0": "59",
                                    "1": "Meston, Tosh",
                                    "2": "3790.00"
                                },
                                {
                                    "0": "60",
                                    "1": "Uppal, Sunil",
                                    "2": "2633.90"
                                },
                                {
                                    "0": "61",
                                    "1": "Florczyk, Krzysztof",
                                    "2": "1353.60"
                                },
                                {
                                    "0": "62",
                                    "1": "Misiec, Anna",
                                    "2": "6373.83"
                                },
                                {
                                    "0": "63",
                                    "1": "Veronesi, Giorgio",
                                    "2": "37217.32"
                                },
                                {
                                    "0": "64",
                                    "1": "Gaffney, Lawrie",
                                    "2": "1694.70"
                                },
                                {
                                    "0": "65",
                                    "1": "Moore, Michael",
                                    "2": "21238.27"
                                },
                                {
                                    "0": "66",
                                    "1": "Voss, Florian",
                                    "2": "3967.30"
                                },
                                {
                                    "0": "67",
                                    "1": "Garden, Euan",
                                    "2": "6998.53"
                                },
                                {
                                    "0": "68",
                                    "1": "Myrcha, Jacek",
                                    "2": "4988.86"
                                },
                                {
                                    "0": "69",
                                    "1": "Watters, Jason M.",
                                    "2": "726.89"
                                },
                                {
                                    "0": "70",
                                    "1": "Ginters, Kaspars",
                                    "2": "3976.75"
                                },
                                {
                                    "0": "71",
                                    "1": "Navarro, Tomás",
                                    "2": "36310.11"
                                },
                                {
                                    "0": "72",
                                    "1": "Welcker, Brian",
                                    "2": "1630.00"
                                },
                                {
                                    "0": "73",
                                    "1": "Gonzalez, Nuria",
                                    "2": "232.09"
                                },
                                {
                                    "0": "74",
                                    "1": "O’Brien, Dave",
                                    "2": "2371.00"
                                },
                                {
                                    "0": "75",
                                    "1": "Wojciechowska, Agnieszka",
                                    "2": "1117.00"
                                },
                                {
                                    "0": "76",
                                    "1": "Gulbis, Katrin",
                                    "2": "11644.60"
                                },
                                {
                                    "0": "77",
                                    "1": "Osorio, Cristian",
                                    "2": "69.60"
                                },
                                {
                                    "0": "78",
                                    "1": "Young, Robin",
                                    "2": "326.00"
                                },
                                {
                                    "0": "79",
                                    "1": "Wickham, Jim",
                                    "2": "910.40"
                                },
                                {
                                    "0": "80",
                                    "1": "Geschwandtner, Jens",
                                    "2": "1874.50"
                                },
                                {
                                    "0": "81",
                                    "1": "Nagel, Jean-Philippe",
                                    "2": "4234.26"
                                },
                                {
                                    "0": "82",
                                    "1": "Veninga, Tjeerd",
                                    "2": "237.90"
                                },
                                {
                                    "0": "83",
                                    "1": "Fonteneau, Karl",
                                    "2": "4284.00"
                                },
                                {
                                    "0": "84",
                                    "1": "Tuntisangaroon, Sittichai",
                                    "2": "2576.45"
                                },
                                {
                                    "0": "86",
                                    "1": "Syamala, Manoj",
                                    "2": "1485.80"
                                },
                                {
                                    "0": "87",
                                    "1": "Ludwig, Michael",
                                    "2": "270.00"
                                },
                                {
                                    "0": "88",
                                    "1": "Li, Yan",
                                    "2": "1135.25"
                                },
                                {
                                    "0": "89",
                                    "1": "Smith Jr., Ronaldo",
                                    "2": "15278.90"
                                },
                                {
                                    "0": "90",
                                    "1": "Larsson, Katarina",
                                    "2": "1987.00"
                                },
                                {
                                    "0": "91",
                                    "1": "Conn, Steve",
                                    "2": "1865.10"
                                }
                            ]
                        },
                        "text/html": [
                            "<table>",
                            "<tr><th>custid</th><th>contactname</th><th>salesamt2008</th></tr>",
                            "<tr><td>1</td><td>Allen, Michael</td><td>2250.50</td></tr>",
                            "<tr><td>2</td><td>Hassall, Mark</td><td>514.40</td></tr>",
                            "<tr><td>3</td><td>Peoples, John</td><td>660.00</td></tr>",
                            "<tr><td>4</td><td>Arndt, Torsten</td><td>5604.75</td></tr>",
                            "<tr><td>5</td><td>Higginbotham, Tom</td><td>6754.16</td></tr>",
                            "<tr><td>6</td><td>Poland, Carole</td><td>2160.00</td></tr>",
                            "<tr><td>7</td><td>Bansal, Dushyant</td><td>730.00</td></tr>",
                            "<tr><td>8</td><td>Ilyina, Julia</td><td>224.00</td></tr>",
                            "<tr><td>9</td><td>Raghav, Amritansh</td><td>6680.61</td></tr>",
                            "<tr><td>10</td><td>Bassols, Pilar Colome</td><td>11338.56</td></tr>",
                            "<tr><td>11</td><td>Jaffe, David</td><td>2431.00</td></tr>",
                            "<tr><td>12</td><td>Ray, Mike</td><td>1576.80</td></tr>",
                            "<tr><td>14</td><td>Jelitto, Jacek</td><td>4158.26</td></tr>",
                            "<tr><td>15</td><td>Richardson, Shawn</td><td>513.75</td></tr>",
                            "<tr><td>16</td><td>Birkby, Dana</td><td>931.50</td></tr>",
                            "<tr><td>17</td><td>Jones, TiAnna</td><td>2809.61</td></tr>",
                            "<tr><td>18</td><td>Rizaldy, Arif</td><td>860.10</td></tr>",
                            "<tr><td>19</td><td>Boseman, Randall</td><td>9296.69</td></tr>",
                            "<tr><td>20</td><td>Kane, John</td><td>41210.65</td></tr>",
                            "<tr><td>24</td><td>San Juan, Patricia</td><td>13644.07</td></tr>",
                            "<tr><td>25</td><td>Carlson, Jason</td><td>5078.74</td></tr>",
                            "<tr><td>26</td><td>Koch, Paul</td><td>2252.06</td></tr>",
                            "<tr><td>27</td><td>Schmöllerl, Martin</td><td>1296.00</td></tr>",
                            "<tr><td>28</td><td>Cavaglieri, Giorgio</td><td>57.80</td></tr>",
                            "<tr><td>29</td><td>Kolesnikova, Katerina</td><td>207.50</td></tr>",
                            "<tr><td>30</td><td>Shabalin, Rostislav</td><td>6870.21</td></tr>",
                            "<tr><td>31</td><td>Cheng, Yao-Qiang</td><td>405.35</td></tr>",
                            "<tr><td>32</td><td>Krishnan, Venky</td><td>9942.14</td></tr>",
                            "<tr><td>34</td><td>Cohen, Shy</td><td>23821.20</td></tr>",
                            "<tr><td>35</td><td>Langohr, Kris</td><td>6043.20</td></tr>",
                            "<tr><td>37</td><td>Crăciun, Ovidiu V.</td><td>20402.12</td></tr>",
                            "<tr><td>38</td><td>Lee, Frank</td><td>2684.60</td></tr>",
                            "<tr><td>39</td><td>Song, Lolan</td><td>19582.78</td></tr>",
                            "<tr><td>40</td><td>De Oliveira, Jose</td><td>1992.05</td></tr>",
                            "<tr><td>41</td><td>Litton, Tim</td><td>1259.91</td></tr>",
                            "<tr><td>42</td><td>Steiner, Dominik</td><td>187.00</td></tr>",
                            "<tr><td>44</td><td>Louverdis, George</td><td>3079.91</td></tr>",
                            "<tr><td>45</td><td>Sunkammurali,  Krishna</td><td>1378.07</td></tr>",
                            "<tr><td>46</td><td>Dressler, Marlies</td><td>5507.32</td></tr>",
                            "<tr><td>47</td><td>Lupu, Cornel</td><td>9117.10</td></tr>",
                            "<tr><td>48</td><td>Szymczak, Radosław</td><td>1709.40</td></tr>",
                            "<tr><td>49</td><td>Duerr, Bernard</td><td>1580.50</td></tr>",
                            "<tr><td>50</td><td>Mace, Donald</td><td>4439.08</td></tr>",
                            "<tr><td>52</td><td>Dupont-Roc, Patrice</td><td>245.00</td></tr>",
                            "<tr><td>53</td><td>Mallit, Ken</td><td>45.00</td></tr>",
                            "<tr><td>54</td><td>Tiano, Mike</td><td>3031.00</td></tr>",
                            "<tr><td>55</td><td>Egelund-Muller, Anja</td><td>5026.29</td></tr>",
                            "<tr><td>56</td><td>Marinova, Nadejda</td><td>2737.28</td></tr>",
                            "<tr><td>58</td><td>Fakhouri, Fadi</td><td>1496.00</td></tr>",
                            "<tr><td>59</td><td>Meston, Tosh</td><td>3790.00</td></tr>",
                            "<tr><td>60</td><td>Uppal, Sunil</td><td>2633.90</td></tr>",
                            "<tr><td>61</td><td>Florczyk, Krzysztof</td><td>1353.60</td></tr>",
                            "<tr><td>62</td><td>Misiec, Anna</td><td>6373.83</td></tr>",
                            "<tr><td>63</td><td>Veronesi, Giorgio</td><td>37217.32</td></tr>",
                            "<tr><td>64</td><td>Gaffney, Lawrie</td><td>1694.70</td></tr>",
                            "<tr><td>65</td><td>Moore, Michael</td><td>21238.27</td></tr>",
                            "<tr><td>66</td><td>Voss, Florian</td><td>3967.30</td></tr>",
                            "<tr><td>67</td><td>Garden, Euan</td><td>6998.53</td></tr>",
                            "<tr><td>68</td><td>Myrcha, Jacek</td><td>4988.86</td></tr>",
                            "<tr><td>69</td><td>Watters, Jason M.</td><td>726.89</td></tr>",
                            "<tr><td>70</td><td>Ginters, Kaspars</td><td>3976.75</td></tr>",
                            "<tr><td>71</td><td>Navarro, Tomás</td><td>36310.11</td></tr>",
                            "<tr><td>72</td><td>Welcker, Brian</td><td>1630.00</td></tr>",
                            "<tr><td>73</td><td>Gonzalez, Nuria</td><td>232.09</td></tr>",
                            "<tr><td>74</td><td>O’Brien, Dave</td><td>2371.00</td></tr>",
                            "<tr><td>75</td><td>Wojciechowska, Agnieszka</td><td>1117.00</td></tr>",
                            "<tr><td>76</td><td>Gulbis, Katrin</td><td>11644.60</td></tr>",
                            "<tr><td>77</td><td>Osorio, Cristian</td><td>69.60</td></tr>",
                            "<tr><td>78</td><td>Young, Robin</td><td>326.00</td></tr>",
                            "<tr><td>79</td><td>Wickham, Jim</td><td>910.40</td></tr>",
                            "<tr><td>80</td><td>Geschwandtner, Jens</td><td>1874.50</td></tr>",
                            "<tr><td>81</td><td>Nagel, Jean-Philippe</td><td>4234.26</td></tr>",
                            "<tr><td>82</td><td>Veninga, Tjeerd</td><td>237.90</td></tr>",
                            "<tr><td>83</td><td>Fonteneau, Karl</td><td>4284.00</td></tr>",
                            "<tr><td>84</td><td>Tuntisangaroon, Sittichai</td><td>2576.45</td></tr>",
                            "<tr><td>86</td><td>Syamala, Manoj</td><td>1485.80</td></tr>",
                            "<tr><td>87</td><td>Ludwig, Michael</td><td>270.00</td></tr>",
                            "<tr><td>88</td><td>Li, Yan</td><td>1135.25</td></tr>",
                            "<tr><td>89</td><td>Smith Jr., Ronaldo</td><td>15278.90</td></tr>",
                            "<tr><td>90</td><td>Larsson, Katarina</td><td>1987.00</td></tr>",
                            "<tr><td>91</td><td>Conn, Steve</td><td>1865.10</td></tr>",
                            "</table>"
                        ]
                    }
                }
            ],
            "execution_count": 10
        },
        {
            "cell_type": "markdown",
            "source": [
                "4. <b><u>Utilizando Funciones de Tabla en línea</b></u>"
            ],
            "metadata": {
                "azdata_cell_guid": "6351453f-8c69-44f9-918e-cb939c9f74ec"
            }
        },
        {
            "cell_type": "markdown",
            "source": [
                "4.1. Escribir una sentencia SELECT contra la vista Sales.OrderValues y traer la las columnas custid y totalsalesamount como un total de la columna val. Filtrar los resultados para incluir las ordenes solo del año 2007."
            ],
            "metadata": {
                "azdata_cell_guid": "94b1d64c-46c8-4107-8ee0-1de5cc5441bb"
            }
        },
        {
            "cell_type": "code",
            "source": [
                "SELECT custid, SUM(val) AS totalsalesamount\r\n",
                "FROM Sales.OrderValues\r\n",
                "WHERE YEAR(orderdate) = 2007\r\n",
                "GROUP BY custid;"
            ],
            "metadata": {
                "azdata_cell_guid": "c370d6e2-0a74-4636-8c17-6dc1da546562",
                "language": "sql",
                "tags": []
            },
            "outputs": [
                {
                    "output_type": "display_data",
                    "data": {
                        "text/html": "(86 rows affected)"
                    },
                    "metadata": {}
                },
                {
                    "output_type": "display_data",
                    "data": {
                        "text/html": "Total execution time: 00:00:00.010"
                    },
                    "metadata": {}
                },
                {
                    "output_type": "execute_result",
                    "metadata": {},
                    "execution_count": 16,
                    "data": {
                        "application/vnd.dataresource+json": {
                            "schema": {
                                "fields": [
                                    {
                                        "name": "custid"
                                    },
                                    {
                                        "name": "totalsalesamount"
                                    }
                                ]
                            },
                            "data": [
                                {
                                    "0": "1",
                                    "1": "2022.50"
                                },
                                {
                                    "0": "2",
                                    "1": "799.75"
                                },
                                {
                                    "0": "3",
                                    "1": "5960.78"
                                },
                                {
                                    "0": "4",
                                    "1": "6406.90"
                                },
                                {
                                    "0": "5",
                                    "1": "13849.02"
                                },
                                {
                                    "0": "6",
                                    "1": "1079.80"
                                },
                                {
                                    "0": "7",
                                    "1": "7817.88"
                                },
                                {
                                    "0": "8",
                                    "1": "3026.85"
                                },
                                {
                                    "0": "9",
                                    "1": "11208.36"
                                },
                                {
                                    "0": "10",
                                    "1": "7630.25"
                                },
                                {
                                    "0": "11",
                                    "1": "3179.50"
                                },
                                {
                                    "0": "12",
                                    "1": "238.00"
                                },
                                {
                                    "0": "14",
                                    "1": "6516.40"
                                },
                                {
                                    "0": "15",
                                    "1": "1128.00"
                                },
                                {
                                    "0": "16",
                                    "1": "787.60"
                                },
                                {
                                    "0": "17",
                                    "1": "420.00"
                                },
                                {
                                    "0": "18",
                                    "1": "487.00"
                                },
                                {
                                    "0": "19",
                                    "1": "4514.35"
                                },
                                {
                                    "0": "20",
                                    "1": "48096.27"
                                },
                                {
                                    "0": "21",
                                    "1": "3127.13"
                                },
                                {
                                    "0": "23",
                                    "1": "11666.90"
                                },
                                {
                                    "0": "24",
                                    "1": "13314.67"
                                },
                                {
                                    "0": "25",
                                    "1": "11829.79"
                                },
                                {
                                    "0": "26",
                                    "1": "920.10"
                                },
                                {
                                    "0": "27",
                                    "1": "249.70"
                                },
                                {
                                    "0": "28",
                                    "1": "5065.33"
                                },
                                {
                                    "0": "29",
                                    "1": "493.20"
                                },
                                {
                                    "0": "30",
                                    "1": "3458.35"
                                },
                                {
                                    "0": "31",
                                    "1": "8008.79"
                                },
                                {
                                    "0": "32",
                                    "1": "8565.32"
                                },
                                {
                                    "0": "33",
                                    "1": "387.50"
                                },
                                {
                                    "0": "34",
                                    "1": "6022.77"
                                },
                                {
                                    "0": "35",
                                    "1": "13482.74"
                                },
                                {
                                    "0": "36",
                                    "1": "2283.20"
                                },
                                {
                                    "0": "37",
                                    "1": "20454.41"
                                },
                                {
                                    "0": "38",
                                    "1": "2560.50"
                                },
                                {
                                    "0": "39",
                                    "1": "9664.21"
                                },
                                {
                                    "0": "41",
                                    "1": "6923.87"
                                },
                                {
                                    "0": "42",
                                    "1": "335.50"
                                },
                                {
                                    "0": "43",
                                    "1": "357.00"
                                },
                                {
                                    "0": "44",
                                    "1": "13076.13"
                                },
                                {
                                    "0": "45",
                                    "1": "1698.40"
                                },
                                {
                                    "0": "46",
                                    "1": "5175.20"
                                },
                                {
                                    "0": "47",
                                    "1": "7359.48"
                                },
                                {
                                    "0": "48",
                                    "1": "1837.20"
                                },
                                {
                                    "0": "49",
                                    "1": "4695.88"
                                },
                                {
                                    "0": "50",
                                    "1": "5297.00"
                                },
                                {
                                    "0": "51",
                                    "1": "23332.31"
                                },
                                {
                                    "0": "52",
                                    "1": "3596.40"
                                },
                                {
                                    "0": "53",
                                    "1": "604.00"
                                },
                                {
                                    "0": "54",
                                    "1": "429.20"
                                },
                                {
                                    "0": "55",
                                    "1": "5475.38"
                                },
                                {
                                    "0": "56",
                                    "1": "8254.28"
                                },
                                {
                                    "0": "58",
                                    "1": "2065.40"
                                },
                                {
                                    "0": "59",
                                    "1": "9305.58"
                                },
                                {
                                    "0": "60",
                                    "1": "1409.20"
                                },
                                {
                                    "0": "61",
                                    "1": "3502.41"
                                },
                                {
                                    "0": "62",
                                    "1": "10132.77"
                                },
                                {
                                    "0": "63",
                                    "1": "61109.92"
                                },
                                {
                                    "0": "64",
                                    "1": "1149.40"
                                },
                                {
                                    "0": "65",
                                    "1": "19383.75"
                                },
                                {
                                    "0": "66",
                                    "1": "3000.84"
                                },
                                {
                                    "0": "67",
                                    "1": "4283.78"
                                },
                                {
                                    "0": "68",
                                    "1": "11864.42"
                                },
                                {
                                    "0": "70",
                                    "1": "700.00"
                                },
                                {
                                    "0": "71",
                                    "1": "57713.58"
                                },
                                {
                                    "0": "72",
                                    "1": "9021.25"
                                },
                                {
                                    "0": "73",
                                    "1": "16232.41"
                                },
                                {
                                    "0": "74",
                                    "1": "52.35"
                                },
                                {
                                    "0": "75",
                                    "1": "2475.00"
                                },
                                {
                                    "0": "76",
                                    "1": "6137.48"
                                },
                                {
                                    "0": "77",
                                    "1": "2955.40"
                                },
                                {
                                    "0": "78",
                                    "1": "1621.24"
                                },
                                {
                                    "0": "79",
                                    "1": "2004.34"
                                },
                                {
                                    "0": "80",
                                    "1": "5523.35"
                                },
                                {
                                    "0": "81",
                                    "1": "1320.40"
                                },
                                {
                                    "0": "82",
                                    "1": "1333.30"
                                },
                                {
                                    "0": "83",
                                    "1": "8960.13"
                                },
                                {
                                    "0": "84",
                                    "1": "5807.12"
                                },
                                {
                                    "0": "85",
                                    "1": "379.80"
                                },
                                {
                                    "0": "86",
                                    "1": "4262.83"
                                },
                                {
                                    "0": "87",
                                    "1": "12262.94"
                                },
                                {
                                    "0": "88",
                                    "1": "4415.15"
                                },
                                {
                                    "0": "89",
                                    "1": "9146.51"
                                },
                                {
                                    "0": "90",
                                    "1": "1174.35"
                                },
                                {
                                    "0": "91",
                                    "1": "1207.85"
                                }
                            ]
                        },
                        "text/html": [
                            "<table>",
                            "<tr><th>custid</th><th>totalsalesamount</th></tr>",
                            "<tr><td>1</td><td>2022.50</td></tr>",
                            "<tr><td>2</td><td>799.75</td></tr>",
                            "<tr><td>3</td><td>5960.78</td></tr>",
                            "<tr><td>4</td><td>6406.90</td></tr>",
                            "<tr><td>5</td><td>13849.02</td></tr>",
                            "<tr><td>6</td><td>1079.80</td></tr>",
                            "<tr><td>7</td><td>7817.88</td></tr>",
                            "<tr><td>8</td><td>3026.85</td></tr>",
                            "<tr><td>9</td><td>11208.36</td></tr>",
                            "<tr><td>10</td><td>7630.25</td></tr>",
                            "<tr><td>11</td><td>3179.50</td></tr>",
                            "<tr><td>12</td><td>238.00</td></tr>",
                            "<tr><td>14</td><td>6516.40</td></tr>",
                            "<tr><td>15</td><td>1128.00</td></tr>",
                            "<tr><td>16</td><td>787.60</td></tr>",
                            "<tr><td>17</td><td>420.00</td></tr>",
                            "<tr><td>18</td><td>487.00</td></tr>",
                            "<tr><td>19</td><td>4514.35</td></tr>",
                            "<tr><td>20</td><td>48096.27</td></tr>",
                            "<tr><td>21</td><td>3127.13</td></tr>",
                            "<tr><td>23</td><td>11666.90</td></tr>",
                            "<tr><td>24</td><td>13314.67</td></tr>",
                            "<tr><td>25</td><td>11829.79</td></tr>",
                            "<tr><td>26</td><td>920.10</td></tr>",
                            "<tr><td>27</td><td>249.70</td></tr>",
                            "<tr><td>28</td><td>5065.33</td></tr>",
                            "<tr><td>29</td><td>493.20</td></tr>",
                            "<tr><td>30</td><td>3458.35</td></tr>",
                            "<tr><td>31</td><td>8008.79</td></tr>",
                            "<tr><td>32</td><td>8565.32</td></tr>",
                            "<tr><td>33</td><td>387.50</td></tr>",
                            "<tr><td>34</td><td>6022.77</td></tr>",
                            "<tr><td>35</td><td>13482.74</td></tr>",
                            "<tr><td>36</td><td>2283.20</td></tr>",
                            "<tr><td>37</td><td>20454.41</td></tr>",
                            "<tr><td>38</td><td>2560.50</td></tr>",
                            "<tr><td>39</td><td>9664.21</td></tr>",
                            "<tr><td>41</td><td>6923.87</td></tr>",
                            "<tr><td>42</td><td>335.50</td></tr>",
                            "<tr><td>43</td><td>357.00</td></tr>",
                            "<tr><td>44</td><td>13076.13</td></tr>",
                            "<tr><td>45</td><td>1698.40</td></tr>",
                            "<tr><td>46</td><td>5175.20</td></tr>",
                            "<tr><td>47</td><td>7359.48</td></tr>",
                            "<tr><td>48</td><td>1837.20</td></tr>",
                            "<tr><td>49</td><td>4695.88</td></tr>",
                            "<tr><td>50</td><td>5297.00</td></tr>",
                            "<tr><td>51</td><td>23332.31</td></tr>",
                            "<tr><td>52</td><td>3596.40</td></tr>",
                            "<tr><td>53</td><td>604.00</td></tr>",
                            "<tr><td>54</td><td>429.20</td></tr>",
                            "<tr><td>55</td><td>5475.38</td></tr>",
                            "<tr><td>56</td><td>8254.28</td></tr>",
                            "<tr><td>58</td><td>2065.40</td></tr>",
                            "<tr><td>59</td><td>9305.58</td></tr>",
                            "<tr><td>60</td><td>1409.20</td></tr>",
                            "<tr><td>61</td><td>3502.41</td></tr>",
                            "<tr><td>62</td><td>10132.77</td></tr>",
                            "<tr><td>63</td><td>61109.92</td></tr>",
                            "<tr><td>64</td><td>1149.40</td></tr>",
                            "<tr><td>65</td><td>19383.75</td></tr>",
                            "<tr><td>66</td><td>3000.84</td></tr>",
                            "<tr><td>67</td><td>4283.78</td></tr>",
                            "<tr><td>68</td><td>11864.42</td></tr>",
                            "<tr><td>70</td><td>700.00</td></tr>",
                            "<tr><td>71</td><td>57713.58</td></tr>",
                            "<tr><td>72</td><td>9021.25</td></tr>",
                            "<tr><td>73</td><td>16232.41</td></tr>",
                            "<tr><td>74</td><td>52.35</td></tr>",
                            "<tr><td>75</td><td>2475.00</td></tr>",
                            "<tr><td>76</td><td>6137.48</td></tr>",
                            "<tr><td>77</td><td>2955.40</td></tr>",
                            "<tr><td>78</td><td>1621.24</td></tr>",
                            "<tr><td>79</td><td>2004.34</td></tr>",
                            "<tr><td>80</td><td>5523.35</td></tr>",
                            "<tr><td>81</td><td>1320.40</td></tr>",
                            "<tr><td>82</td><td>1333.30</td></tr>",
                            "<tr><td>83</td><td>8960.13</td></tr>",
                            "<tr><td>84</td><td>5807.12</td></tr>",
                            "<tr><td>85</td><td>379.80</td></tr>",
                            "<tr><td>86</td><td>4262.83</td></tr>",
                            "<tr><td>87</td><td>12262.94</td></tr>",
                            "<tr><td>88</td><td>4415.15</td></tr>",
                            "<tr><td>89</td><td>9146.51</td></tr>",
                            "<tr><td>90</td><td>1174.35</td></tr>",
                            "<tr><td>91</td><td>1207.85</td></tr>",
                            "</table>"
                        ]
                    }
                }
            ],
            "execution_count": 16
        },
        {
            "cell_type": "markdown",
            "source": [
                "4.2. Definir una función de valores de tabla (TVF) en linea utilizando el siguiente encabezado de función y añadir la consulta previa despues de la clausula RETURN:\r\n",
                "Modificar la consulta constante año valor 2007 en la clausula WHERE con el parametro @orderyear."
            ],
            "metadata": {
                "azdata_cell_guid": "8b91f57b-9cec-4519-9737-e01c5382dfc0"
            }
        },
        {
            "cell_type": "code",
            "source": [
                "CREATE FUNCTION dbo.fnGetSalesByCustomer\r\n",
                "(@orderyear AS INT)\r\n",
                "RETURNS TABLE\r\n",
                "AS\r\n",
                "RETURN\r\n",
                "    SELECT custid, SUM(val) AS totalsalesamount\r\n",
                "    FROM Sales.OrderValues\r\n",
                "    WHERE YEAR(orderdate) = @orderyear\r\n",
                "    GROUP BY custid;"
            ],
            "metadata": {
                "azdata_cell_guid": "d2fcd69d-2058-4513-b0b7-3e5b4ca50676",
                "language": "sql"
            },
            "outputs": [
                {
                    "output_type": "error",
                    "evalue": "Msg 2714, Level 16, State 3, Procedure fnGetSalesByCustomer, Line 1\r\nYa hay un objeto con el nombre 'fnGetSalesByCustomer' en la base de datos.",
                    "ename": "",
                    "traceback": []
                },
                {
                    "output_type": "display_data",
                    "data": {
                        "text/html": "Total execution time: 00:00:00.003"
                    },
                    "metadata": {}
                }
            ],
            "execution_count": 17
        },
        {
            "cell_type": "markdown",
            "source": [
                "4.3. Escribir una sentencia SELECT que devuelva el top 3 de los productos vendidos basado en el valor de total de ventas para el cliente con el ID 1. Devolver las columnas productid y productname de la tabla Production.Products. Utilizar las columnas qty y unitprice de la tabla Sales.OrderDetails para calcular el valor de cada linea de la orden, y devolver la suma de todos los valores por producto, nombrando la columna resultante totalsalesamount. Filtrar los resultados para incluir solo las filas donde el valor de la columna custid es igual a 1."
            ],
            "metadata": {
                "azdata_cell_guid": "4303945d-a530-4163-8afb-00d615accf21"
            }
        },
        {
            "cell_type": "code",
            "source": [
                "SELECT TOP 3 \r\n",
                "    p.productid, \r\n",
                "    p.productname, \r\n",
                "    SUM(od.qty * od.unitprice) AS totalsalesamount\r\n",
                "FROM Sales.OrderDetails od\r\n",
                "JOIN Sales.Orders o ON od.orderid = o.orderid\r\n",
                "JOIN Production.Products p ON od.productid = p.productid\r\n",
                "WHERE o.custid = 1\r\n",
                "GROUP BY p.productid, p.productname\r\n",
                "ORDER BY totalsalesamount DESC;"
            ],
            "metadata": {
                "azdata_cell_guid": "35c89b37-a6f3-4996-82b4-3f1763bb87f0",
                "language": "sql"
            },
            "outputs": [
                {
                    "output_type": "display_data",
                    "data": {
                        "text/html": "(3 rows affected)"
                    },
                    "metadata": {}
                },
                {
                    "output_type": "display_data",
                    "data": {
                        "text/html": "Total execution time: 00:00:00.017"
                    },
                    "metadata": {}
                },
                {
                    "output_type": "execute_result",
                    "metadata": {},
                    "execution_count": 18,
                    "data": {
                        "application/vnd.dataresource+json": {
                            "schema": {
                                "fields": [
                                    {
                                        "name": "productid"
                                    },
                                    {
                                        "name": "productname"
                                    },
                                    {
                                        "name": "totalsalesamount"
                                    }
                                ]
                            },
                            "data": [
                                {
                                    "0": "63",
                                    "1": "Product ICKNK",
                                    "2": "878,00"
                                },
                                {
                                    "0": "59",
                                    "1": "Product UKXRI",
                                    "2": "825,00"
                                },
                                {
                                    "0": "28",
                                    "1": "Product OFBNT",
                                    "2": "775,20"
                                }
                            ]
                        },
                        "text/html": [
                            "<table>",
                            "<tr><th>productid</th><th>productname</th><th>totalsalesamount</th></tr>",
                            "<tr><td>63</td><td>Product ICKNK</td><td>878,00</td></tr>",
                            "<tr><td>59</td><td>Product UKXRI</td><td>825,00</td></tr>",
                            "<tr><td>28</td><td>Product OFBNT</td><td>775,20</td></tr>",
                            "</table>"
                        ]
                    }
                }
            ],
            "execution_count": 18
        },
        {
            "cell_type": "markdown",
            "source": [
                "4.4. Crear una funncion (TVF) basada en el siguiente encabezado, utilizando la sentencia  SELECT previa. Reemplazar la constante custid valor 1 en la consulta con el parametro de la funcion @custid:"
            ],
            "metadata": {
                "azdata_cell_guid": "c00eab0c-56e6-4277-adae-1fbfe072fb2b"
            }
        },
        {
            "cell_type": "code",
            "source": [
                "CREATE FUNCTION dbo.fnGetTop3ProductsForCustomer\r\n",
                "(@custid AS INT)\r\n",
                "RETURNS TABLE\r\n",
                "AS\r\n",
                "RETURN\r\n",
                "    SELECT TOP 3 \r\n",
                "        p.productid, \r\n",
                "        p.productname, \r\n",
                "        SUM(od.qty * od.unitprice) AS totalsalesamount\r\n",
                "    FROM Sales.OrderDetails od\r\n",
                "    JOIN Sales.Orders o ON od.orderid = o.orderid\r\n",
                "    JOIN Production.Products p ON od.productid = p.productid\r\n",
                "    WHERE o.custid = @custid\r\n",
                "    GROUP BY p.productid, p.productname\r\n",
                "    ORDER BY totalsalesamount DESC;"
            ],
            "metadata": {
                "azdata_cell_guid": "40f72f70-dd41-42d1-9d6c-2a8418f7d175",
                "tags": [],
                "language": "sql"
            },
            "outputs": [
                {
                    "output_type": "display_data",
                    "data": {
                        "text/html": "Commands completed successfully."
                    },
                    "metadata": {}
                },
                {
                    "output_type": "display_data",
                    "data": {
                        "text/html": "Total execution time: 00:00:00.003"
                    },
                    "metadata": {}
                }
            ],
            "execution_count": 19
        },
        {
            "cell_type": "markdown",
            "source": [
                "4.5. Probar la función SELECT creada escribiendo  una sentencia con esta y utilizar el valor para el parametro customer ID. Traer las columnas productid, productname y totalsalesamount, y utilizar el alias “p” para la función TVF."
            ],
            "metadata": {
                "azdata_cell_guid": "276b1e2c-d0f7-4b2c-a9a2-8de7de51ed60"
            }
        },
        {
            "cell_type": "code",
            "source": [
                "SELECT \r\n",
                "    p.productid, \r\n",
                "    p.productname, \r\n",
                "    p.totalsalesamount\r\n",
                "FROM dbo.fnGetTop3ProductsForCustomer(1) AS p;"
            ],
            "metadata": {
                "azdata_cell_guid": "efad99a1-7a10-4a2a-9638-26086ce7d414",
                "language": "sql"
            },
            "outputs": [
                {
                    "output_type": "display_data",
                    "data": {
                        "text/html": "(3 rows affected)"
                    },
                    "metadata": {}
                },
                {
                    "output_type": "display_data",
                    "data": {
                        "text/html": "Total execution time: 00:00:00.010"
                    },
                    "metadata": {}
                },
                {
                    "output_type": "execute_result",
                    "metadata": {},
                    "execution_count": 20,
                    "data": {
                        "application/vnd.dataresource+json": {
                            "schema": {
                                "fields": [
                                    {
                                        "name": "productid"
                                    },
                                    {
                                        "name": "productname"
                                    },
                                    {
                                        "name": "totalsalesamount"
                                    }
                                ]
                            },
                            "data": [
                                {
                                    "0": "63",
                                    "1": "Product ICKNK",
                                    "2": "878,00"
                                },
                                {
                                    "0": "59",
                                    "1": "Product UKXRI",
                                    "2": "825,00"
                                },
                                {
                                    "0": "28",
                                    "1": "Product OFBNT",
                                    "2": "775,20"
                                }
                            ]
                        },
                        "text/html": [
                            "<table>",
                            "<tr><th>productid</th><th>productname</th><th>totalsalesamount</th></tr>",
                            "<tr><td>63</td><td>Product ICKNK</td><td>878,00</td></tr>",
                            "<tr><td>59</td><td>Product UKXRI</td><td>825,00</td></tr>",
                            "<tr><td>28</td><td>Product OFBNT</td><td>775,20</td></tr>",
                            "</table>"
                        ]
                    }
                }
            ],
            "execution_count": 20
        },
        {
            "cell_type": "markdown",
            "source": [
                "4.6. Escribir el código necesario para limpiar todos los cambios realizados"
            ],
            "metadata": {
                "azdata_cell_guid": "a0c425de-23dd-41d7-bd01-17e58424adef"
            }
        },
        {
            "cell_type": "code",
            "source": [
                "-- Eliminar la vista creada\r\n",
                "DROP VIEW IF EXISTS Production.ProductsBeverages;\r\n",
                "\r\n",
                "-- Eliminar la función TVF de ventas por cliente\r\n",
                "DROP FUNCTION IF EXISTS dbo.fnGetSalesByCustomer;\r\n",
                "\r\n",
                "-- Eliminar la función TVF de top 3 productos por cliente\r\n",
                "DROP FUNCTION IF EXISTS dbo.fnGetTop3ProductsForCustomer;"
            ],
            "metadata": {
                "azdata_cell_guid": "c1d7a633-39cd-4129-9d8c-eaddfdf00a91",
                "language": "sql"
            },
            "outputs": [
                {
                    "output_type": "display_data",
                    "data": {
                        "text/html": "Commands completed successfully."
                    },
                    "metadata": {}
                },
                {
                    "output_type": "display_data",
                    "data": {
                        "text/html": "Total execution time: 00:00:00.003"
                    },
                    "metadata": {}
                }
            ],
            "execution_count": 21
        }
    ]
}